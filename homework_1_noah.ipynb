{
 "cells": [
  {
   "cell_type": "code",
   "execution_count": 1,
   "metadata": {},
   "outputs": [],
   "source": [
    "#Homework 1, Question 1"
   ]
  },
  {
   "cell_type": "code",
   "execution_count": 2,
   "metadata": {},
   "outputs": [],
   "source": [
    "fun_list = [234, 435, 675, 908, 803, 123, 345, 445, 555, 773]"
   ]
  },
  {
   "cell_type": "code",
   "execution_count": 26,
   "metadata": {},
   "outputs": [
    {
     "name": "stdout",
     "output_type": "stream",
     "text": [
      "555\n",
      "345\n",
      "803\n",
      "675\n",
      "234\n"
     ]
    }
   ],
   "source": [
    "#Question1A\n",
    "n = 1\n",
    "\n",
    "for no in fun_list:\n",
    "    if n < 10:\n",
    "        print(fun_list[n])\n",
    "        n = n+2"
   ]
  },
  {
   "cell_type": "code",
   "execution_count": 29,
   "metadata": {},
   "outputs": [],
   "source": [
    "#Question1B\n",
    "fun_list.reverse()"
   ]
  },
  {
   "cell_type": "code",
   "execution_count": 30,
   "metadata": {},
   "outputs": [
    {
     "data": {
      "text/plain": [
       "[773, 555, 445, 345, 123, 803, 908, 675, 435, 234]"
      ]
     },
     "execution_count": 30,
     "metadata": {},
     "output_type": "execute_result"
    }
   ],
   "source": [
    "fun_list"
   ]
  },
  {
   "cell_type": "code",
   "execution_count": 17,
   "metadata": {},
   "outputs": [],
   "source": [
    "#Question 2"
   ]
  },
  {
   "cell_type": "code",
   "execution_count": 18,
   "metadata": {},
   "outputs": [],
   "source": [
    "fun_string = \"Noah\""
   ]
  },
  {
   "cell_type": "code",
   "execution_count": 31,
   "metadata": {},
   "outputs": [
    {
     "name": "stdout",
     "output_type": "stream",
     "text": [
      "haoN\n"
     ]
    }
   ],
   "source": [
    "#Question2A\n",
    "print(fun_string[::-1])"
   ]
  },
  {
   "cell_type": "code",
   "execution_count": 32,
   "metadata": {},
   "outputs": [
    {
     "name": "stdout",
     "output_type": "stream",
     "text": [
      "consonant\n",
      "vowel\n",
      "vowel\n",
      "consonant\n"
     ]
    }
   ],
   "source": [
    "#Question2B\n",
    "n = 0\n",
    "for no in fun_string:\n",
    "    if fun_string[n] in ['a', 'e', 'i', 'o', 'u']:\n",
    "        print('vowel')\n",
    "    else:\n",
    "        print('consonant')\n",
    "    n = n+1"
   ]
  },
  {
   "cell_type": "code",
   "execution_count": 33,
   "metadata": {},
   "outputs": [
    {
     "name": "stdout",
     "output_type": "stream",
     "text": [
      "o\n",
      "a\n"
     ]
    }
   ],
   "source": [
    "#Question2C\n",
    "n = 0\n",
    "for no in fun_string:\n",
    "    if fun_string[n] in ['a', 'e', 'i', 'o', 'u']:\n",
    "        print(fun_string[n])\n",
    "        n = n+1\n",
    "    else:\n",
    "        n = n+1"
   ]
  },
  {
   "cell_type": "code",
   "execution_count": 24,
   "metadata": {},
   "outputs": [],
   "source": [
    "#Question 3"
   ]
  },
  {
   "cell_type": "code",
   "execution_count": 48,
   "metadata": {},
   "outputs": [
    {
     "name": "stdout",
     "output_type": "stream",
     "text": [
      "True\n",
      "True\n"
     ]
    }
   ],
   "source": [
    "fun_list1 = [1,3,4,5,7,9,11]\n",
    "fun_list2 = [2,3,4,6,8,10,12]\n",
    "n = 0\n",
    "for no in fun_list1:\n",
    "    if fun_list1[n] not in fun_list2:\n",
    "        n = n+1\n",
    "    else:\n",
    "        n = n+1\n",
    "        print(\"True\")"
   ]
  },
  {
   "cell_type": "code",
   "execution_count": 34,
   "metadata": {},
   "outputs": [],
   "source": [
    "#Question 4"
   ]
  },
  {
   "cell_type": "code",
   "execution_count": 38,
   "metadata": {},
   "outputs": [
    {
     "name": "stdout",
     "output_type": "stream",
     "text": [
      "[1, 8, 27, 64, 125, 216, 343, 512, 729, 1000]\n"
     ]
    }
   ],
   "source": [
    "old_list = [1,2,3,4,5,6,7,8,9,10]\n",
    "new_list = []\n",
    "for no in old_list:\n",
    "    new_list.append(no**3)\n",
    "print(new_list)"
   ]
  },
  {
   "cell_type": "code",
   "execution_count": 39,
   "metadata": {},
   "outputs": [],
   "source": [
    "#Question 5"
   ]
  },
  {
   "cell_type": "code",
   "execution_count": 40,
   "metadata": {},
   "outputs": [],
   "source": [
    "baseballplayer = {'name': 'Mash Taters', 'teamName': 'Lansing Redbirds', 'number': '68', 'battingAverage': '.668', 'OBP': '.700', 'AB': '56', 'Hits': '40'}"
   ]
  }
 ],
 "metadata": {
  "kernelspec": {
   "display_name": "Python 3",
   "language": "python",
   "name": "python3"
  },
  "language_info": {
   "codemirror_mode": {
    "name": "ipython",
    "version": 3
   },
   "file_extension": ".py",
   "mimetype": "text/x-python",
   "name": "python",
   "nbconvert_exporter": "python",
   "pygments_lexer": "ipython3",
   "version": "3.6.5"
  }
 },
 "nbformat": 4,
 "nbformat_minor": 2
}
