{
 "cells": [
  {
   "cell_type": "code",
   "execution_count": 1,
   "metadata": {},
   "outputs": [],
   "source": [
    "# QUESTION 1A\n",
    "intlist = [1,2,3,4,5,6,7,8,9,10]"
   ]
  },
  {
   "cell_type": "code",
   "execution_count": 7,
   "metadata": {},
   "outputs": [
    {
     "name": "stdout",
     "output_type": "stream",
     "text": [
      "10\n",
      "9\n",
      "8\n",
      "7\n",
      "6\n",
      "5\n",
      "4\n",
      "3\n",
      "2\n",
      "1\n"
     ]
    }
   ],
   "source": [
    "# QUESTION 1B\n",
    "intlist = [1,2,3,4,5,6,7,8,9,10]\n",
    "\n",
    "for no in range(10):\n",
    "    print (intlist[9-no])"
   ]
  },
  {
   "cell_type": "code",
   "execution_count": 31,
   "metadata": {},
   "outputs": [
    {
     "name": "stdout",
     "output_type": "stream",
     "text": [
      "aterg\n"
     ]
    }
   ],
   "source": [
    "# QUESTION 2A\n",
    "print ('greta'[::-1])"
   ]
  },
  {
   "cell_type": "code",
   "execution_count": 32,
   "metadata": {},
   "outputs": [
    {
     "name": "stdout",
     "output_type": "stream",
     "text": [
      "consonant\n",
      "consonant\n",
      "vowel\n",
      "consonant\n",
      "vowel\n"
     ]
    }
   ],
   "source": [
    "# QUESTION 2B\n",
    "name = ['greta']\n",
    "if 'g' in ['a','e','i','o','u']: \n",
    "    print('vowel')\n",
    "else:\n",
    "    print('consonant')\n",
    "if 'r' in ['a','e','i','o','u']: \n",
    "    print('vowel')\n",
    "else:\n",
    "    print('consonant')\n",
    "if 'e' in ['a','e','i','o','u']: \n",
    "    print('vowel')\n",
    "else:\n",
    "    print('consonant')\n",
    "if 't' in ['a','e','i','o','u']: \n",
    "    print('vowel')\n",
    "else:\n",
    "    print('consonant')\n",
    "if 'a' in ['a','e','i','o','u']: \n",
    "    print('vowel')\n",
    "else:\n",
    "    print('consonant')\n"
   ]
  },
  {
   "cell_type": "code",
   "execution_count": 38,
   "metadata": {},
   "outputs": [
    {
     "name": "stdout",
     "output_type": "stream",
     "text": [
      "e\n",
      "a\n"
     ]
    }
   ],
   "source": [
    "# QUESTION 2C\n",
    "name = ['greta']\n",
    "if 'g' in ['a','e','i','o','u']: \n",
    "    print('g')\n",
    "if 'r' in ['a','e','i','o','u']: \n",
    "    print('r')\n",
    "if 'e' in ['a','e','i','o','u']: \n",
    "    print('e')\n",
    "if 't' in ['a','e','i','o','u']: \n",
    "    print('t')\n",
    "if 'a' in ['a','e','i','o','u']: \n",
    "    print('a')"
   ]
  },
  {
   "cell_type": "code",
   "execution_count": null,
   "metadata": {},
   "outputs": [],
   "source": [
    "# QUESTION 3"
   ]
  },
  {
   "cell_type": "code",
   "execution_count": 48,
   "metadata": {},
   "outputs": [
    {
     "name": "stdout",
     "output_type": "stream",
     "text": [
      "[8, 64, 216, 512]\n"
     ]
    }
   ],
   "source": [
    "# QUESTION 4\n",
    "firstlist = [2,4,6,8]\n",
    "secondlist = []\n",
    "for no in firstlist:\n",
    "    secondlist.append(no**3)\n",
    "print(secondlist)"
   ]
  },
  {
   "cell_type": "code",
   "execution_count": null,
   "metadata": {},
   "outputs": [],
   "source": [
    "# QUESTION 5\n",
    "player = ['name': 'Bobby', 'number': 52, 'batting_average': .250]"
   ]
  },
  {
   "cell_type": "code",
   "execution_count": null,
   "metadata": {},
   "outputs": [],
   "source": []
  },
  {
   "cell_type": "code",
   "execution_count": null,
   "metadata": {},
   "outputs": [],
   "source": []
  },
  {
   "cell_type": "code",
   "execution_count": null,
   "metadata": {},
   "outputs": [],
   "source": []
  }
 ],
 "metadata": {
  "kernelspec": {
   "display_name": "Python 3",
   "language": "python",
   "name": "python3"
  },
  "language_info": {
   "codemirror_mode": {
    "name": "ipython",
    "version": 3
   },
   "file_extension": ".py",
   "mimetype": "text/x-python",
   "name": "python",
   "nbconvert_exporter": "python",
   "pygments_lexer": "ipython3",
   "version": "3.6.5"
  }
 },
 "nbformat": 4,
 "nbformat_minor": 2
}
